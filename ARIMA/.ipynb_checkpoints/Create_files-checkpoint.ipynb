{
 "cells": [
  {
   "cell_type": "markdown",
   "id": "07ea5541",
   "metadata": {},
   "source": [
    "# Import Library"
   ]
  },
  {
   "cell_type": "code",
   "execution_count": 94,
   "id": "947a8ee0",
   "metadata": {},
   "outputs": [],
   "source": [
    "import pandas as pd\n",
    "import matplotlib.pyplot as plt\n",
    "import numpy as np"
   ]
  },
  {
   "cell_type": "markdown",
   "id": "640089e1",
   "metadata": {},
   "source": [
    "# Read data"
   ]
  },
  {
   "cell_type": "code",
   "execution_count": 95,
   "id": "20e040da",
   "metadata": {},
   "outputs": [],
   "source": [
    "data = pd.read_csv('GDP_ALL_countries.csv', parse_dates = True, index_col = 0)"
   ]
  },
  {
   "cell_type": "markdown",
   "id": "ef0d9453",
   "metadata": {},
   "source": [
    "# Create processed data"
   ]
  },
  {
   "cell_type": "markdown",
   "id": "6607d01a",
   "metadata": {},
   "source": [
    "## Create list of data"
   ]
  },
  {
   "cell_type": "code",
   "execution_count": 96,
   "id": "a5e570bd",
   "metadata": {},
   "outputs": [],
   "source": [
    "data.drop(['Indicator Name', 'Indicator Code'], axis=1, inplace=True)\n",
    "country_info = pd.DataFrame(country_list, columns=['Country Name'])\n",
    "country_info['Country_Code'] = data['Country Code'].values\n",
    "path = 'Data/Info/'\n",
    "country_info.to_csv(path + 'Country_information.csv')"
   ]
  },
  {
   "cell_type": "markdown",
   "id": "dc0f8af0",
   "metadata": {},
   "source": [
    "## Create data for each country"
   ]
  },
  {
   "cell_type": "code",
   "execution_count": 97,
   "id": "2def3120",
   "metadata": {},
   "outputs": [],
   "source": [
    "data.drop(['Country Code'], axis=1, inplace=True)\n",
    "data_T = data.T\n",
    "cList = data_T.columns.tolist()"
   ]
  },
  {
   "cell_type": "code",
   "execution_count": 98,
   "id": "b5ecae3e",
   "metadata": {},
   "outputs": [],
   "source": [
    "path = 'Data/'\n",
    "for c in cList:\n",
    "    globals()[c] = data_T[c].values\n",
    "    globals()[c] = pd.DataFrame(globals()[c])\n",
    "    globals()[c].index = data_T.index\n",
    "    globals()[c].columns = [c]\n",
    "    globals()[c].dropna(inplace = True)\n",
    "    globals()[c].to_csv(path + c + '.csv')"
   ]
  }
 ],
 "metadata": {
  "kernelspec": {
   "display_name": "Python 3",
   "language": "python",
   "name": "python3"
  },
  "language_info": {
   "codemirror_mode": {
    "name": "ipython",
    "version": 3
   },
   "file_extension": ".py",
   "mimetype": "text/x-python",
   "name": "python",
   "nbconvert_exporter": "python",
   "pygments_lexer": "ipython3",
   "version": "3.8.8"
  }
 },
 "nbformat": 4,
 "nbformat_minor": 5
}
